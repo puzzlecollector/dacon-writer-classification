{
 "cells": [
  {
   "cell_type": "code",
   "execution_count": 1,
   "metadata": {},
   "outputs": [],
   "source": [
    "import glob\n",
    "import pandas as pd\n",
    "from tensorflow import keras\n",
    "import numpy as np\n",
    "import os \n",
    "from sklearn.model_selection import StratifiedKFold\n",
    "import matplotlib.pylab as plt\n",
    "from tqdm import tqdm\n",
    "import tensorflow as tf\n",
    "from tensorflow.keras.layers import TimeDistributed, Conv2D, Conv2DTranspose, MaxPooling2D, AveragePooling2D, BatchNormalization, concatenate, Input, ConvLSTM2D, Reshape, Conv3D, Flatten, LSTM, GRU, Dense,Dropout, Add\n",
    "from tensorflow.keras.layers import Embedding, GlobalAveragePooling1D, Bidirectional, Conv1D, MaxPooling1D\n",
    "from tensorflow.keras.models import Model, load_model\n",
    "from tensorflow.keras.callbacks import ModelCheckpoint, EarlyStopping, ReduceLROnPlateau, LearningRateScheduler\n",
    "from tensorflow.keras.models import Sequential, load_model\n",
    "from sklearn.utils import shuffle\n",
    "from tensorflow.keras.preprocessing.sequence import pad_sequences \n",
    "from tensorflow.keras.preprocessing.text import Tokenizer \n",
    "from tensorflow.keras import regularizers\n",
    "from tensorflow.keras.optimizers import Adam\n",
    "import re "
   ]
  },
  {
   "cell_type": "code",
   "execution_count": 2,
   "metadata": {},
   "outputs": [],
   "source": [
    "train = pd.read_csv('./storage/writer/train.csv', encoding = 'utf-8') \n",
    "test = pd.read_csv('./storage/writer/test_x.csv', encoding = 'utf-8') \n",
    "ss = pd.read_csv('./storage/writer/sample_submission.csv', encoding = 'utf-8') "
   ]
  },
  {
   "cell_type": "code",
   "execution_count": 3,
   "metadata": {},
   "outputs": [],
   "source": [
    "# 부호 제거하는 함수 \n",
    "def alpha_num(text): \n",
    "    return re.sub(r'[^A-Za-z0-9 ]', '', text) \n",
    "\n",
    "train['text'] = train['text'].apply(alpha_num) "
   ]
  },
  {
   "cell_type": "code",
   "execution_count": 4,
   "metadata": {},
   "outputs": [],
   "source": [
    "# 불용어 제거하는 함수 \n",
    "def remove_stopwords(text): \n",
    "    final_text = [] \n",
    "    for i in text.split(): \n",
    "        if i.strip().lower() not in stopwords: \n",
    "            final_text.append(i.strip()) \n",
    "    return \" \".join(final_text)\n",
    "\n",
    "# 불용어\n",
    "stopwords = [ \"a\", \"about\", \"above\", \"after\", \"again\", \"against\", \"all\", \"am\", \"an\", \"and\", \"any\", \"are\", \"as\", \n",
    "             \"at\", \"be\", \"because\", \"been\", \"before\", \"being\", \"below\", \"between\", \"both\", \"but\", \"by\", \"could\", \n",
    "             \"did\", \"do\", \"does\", \"doing\", \"down\", \"during\", \"each\", \"few\", \"for\", \"from\", \"further\", \"had\", \"has\", \n",
    "             \"have\", \"having\", \"he\", \"he'd\", \"he'll\", \"he's\", \"her\", \"here\", \"here's\", \"hers\", \"herself\", \"him\", \"himself\", \n",
    "             \"his\", \"how\", \"how's\", \"i\", \"i'd\", \"i'll\", \"i'm\", \"i've\", \"if\", \"in\", \"into\", \"is\", \"it\", \"it's\", \"its\", \"itself\", \n",
    "             \"let's\", \"me\", \"more\", \"most\", \"my\", \"myself\", \"nor\", \"of\", \"on\", \"once\", \"only\", \"or\", \"other\", \"ought\", \"our\", \"ours\", \n",
    "             \"ourselves\", \"out\", \"over\", \"own\", \"same\", \"she\", \"she'd\", \"she'll\", \"she's\", \"should\", \"so\", \"some\", \"such\", \"than\", \"that\", \n",
    "             \"that's\", \"the\", \"their\", \"theirs\", \"them\", \"themselves\", \"then\", \"there\", \"there's\", \"these\", \"they\", \"they'd\", \"they'll\", \n",
    "             \"they're\", \"they've\", \"this\", \"those\", \"through\", \"to\", \"too\", \"under\", \"until\", \"up\", \"very\", \"was\", \"we\", \"we'd\", \"we'll\", \n",
    "             \"we're\", \"we've\", \"were\", \"what\", \"what's\", \"when\", \"when's\", \"where\", \"where's\", \"which\", \"while\", \"who\", \"who's\", \"whom\", \n",
    "             \"why\", \"why's\", \"with\", \"would\", \"you\", \"you'd\", \"you'll\", \"you're\", \"you've\", \"your\", \"yours\", \"yourself\", \"yourselves\" ]\n"
   ]
  },
  {
   "cell_type": "code",
   "execution_count": 5,
   "metadata": {},
   "outputs": [],
   "source": [
    "# preprocessing \n",
    "train['text'] = train['text'].str.lower() \n",
    "test['text'] = test['text'].str.lower() \n",
    "train['text'] = train['text'].apply(alpha_num).apply(remove_stopwords) \n",
    "test['text'] = test['text'].apply(alpha_num).apply(remove_stopwords)  "
   ]
  },
  {
   "cell_type": "code",
   "execution_count": 6,
   "metadata": {},
   "outputs": [],
   "source": [
    "X_train = np.array([x for x in train['text']]) \n",
    "X_test = np.array([x for x in test['text']])            \n",
    "y_train = np.array([x for x in train['author']])"
   ]
  },
  {
   "cell_type": "code",
   "execution_count": 7,
   "metadata": {},
   "outputs": [
    {
     "data": {
      "text/plain": [
       "((54879,), (54879,), (19617,))"
      ]
     },
     "execution_count": 7,
     "metadata": {},
     "output_type": "execute_result"
    }
   ],
   "source": [
    "X_train.shape, y_train.shape, X_test.shape"
   ]
  },
  {
   "cell_type": "code",
   "execution_count": 12,
   "metadata": {},
   "outputs": [],
   "source": [
    "vocab_size = 47137\n",
    "embedding_dim = 300\n",
    "max_length = 500 \n",
    "padding_type='post' "
   ]
  },
  {
   "cell_type": "code",
   "execution_count": 13,
   "metadata": {},
   "outputs": [],
   "source": [
    "tokenizer = Tokenizer(num_words = vocab_size) \n",
    "tokenizer.fit_on_texts(X_train) \n",
    "word_idx = tokenizer.word_index"
   ]
  },
  {
   "cell_type": "code",
   "execution_count": 14,
   "metadata": {},
   "outputs": [],
   "source": [
    "train_sequences = tokenizer.texts_to_sequences(X_train) \n",
    "train_padded = pad_sequences(train_sequences, padding = padding_type, maxlen = max_length)"
   ]
  },
  {
   "cell_type": "code",
   "execution_count": 15,
   "metadata": {},
   "outputs": [],
   "source": [
    "test_sequences = tokenizer.texts_to_sequences(X_test) \n",
    "test_padded = pad_sequences(test_sequences, padding = padding_type, maxlen = max_length)"
   ]
  },
  {
   "cell_type": "code",
   "execution_count": 16,
   "metadata": {},
   "outputs": [
    {
     "data": {
      "text/plain": [
       "((54879, 500), (19617, 500))"
      ]
     },
     "execution_count": 16,
     "metadata": {},
     "output_type": "execute_result"
    }
   ],
   "source": [
    "train_padded.shape, test_padded.shape"
   ]
  },
  {
   "cell_type": "markdown",
   "metadata": {},
   "source": [
    "### Try loading Glove embeddings"
   ]
  },
  {
   "cell_type": "code",
   "execution_count": 17,
   "metadata": {},
   "outputs": [
    {
     "name": "stdout",
     "output_type": "stream",
     "text": [
      "Loaded 400000 word vectors.\n"
     ]
    }
   ],
   "source": [
    "embeddings_index = dict() \n",
    "f = open('./storage/glove.6B/glove.6B.300d.txt')\n",
    "for line in f:  \n",
    "    values = line.split() \n",
    "    word = values[0] \n",
    "    coefs = np.asarray(values[1:], dtype = 'float32')\n",
    "    embeddings_index[word] = coefs \n",
    "f.close() \n",
    "print('Loaded %s word vectors.' % len(embeddings_index))"
   ]
  },
  {
   "cell_type": "code",
   "execution_count": 18,
   "metadata": {},
   "outputs": [],
   "source": [
    "embedding_matrix = np.zeros((vocab_size, embedding_dim))\n",
    "for word, i in tokenizer.word_index.items():  \n",
    "    embedding_vector = embeddings_index.get(word)\n",
    "    if embedding_vector is not None:  \n",
    "        embedding_matrix[i] = embedding_vector\n"
   ]
  },
  {
   "cell_type": "markdown",
   "metadata": {},
   "source": [
    "### construct model and train"
   ]
  },
  {
   "cell_type": "code",
   "execution_count": 19,
   "metadata": {},
   "outputs": [],
   "source": [
    "def bidirectional_gru(): \n",
    "    model = Sequential() \n",
    "    model.add(Embedding(vocab_size, embedding_dim, input_length = max_length)) \n",
    "    model.add(Bidirectional(GRU(150, return_sequences = True))) \n",
    "    model.add(Dropout(0.2))\n",
    "    model.add(GRU(100)) \n",
    "    model.add(Dense(32, activation = 'relu', kernel_regularizer = regularizers.l2(0.01)))\n",
    "    model.add(Dense(5, activation = 'softmax')) \n",
    "    model.compile(loss='sparse_categorical_crossentropy', optimizer = 'adam', metrics = ['accuracy']) \n",
    "    return model "
   ]
  },
  {
   "cell_type": "code",
   "execution_count": 20,
   "metadata": {},
   "outputs": [],
   "source": [
    "def simple_lstm(): \n",
    "    model = Sequential() \n",
    "    model.add(Embedding(vocab_size, embedding_dim, weights = [embedding_matrix], input_length = max_length)) \n",
    "    model.add(Dropout(0.5))\n",
    "    model.add(Conv1D(128, 5, padding = 'valid', activation = 'relu', strides = 3)) \n",
    "    model.add(Conv1D(128, 5, padding = 'valid', activation = 'relu', strides = 3)) \n",
    "    model.add(MaxPooling1D(pool_size = 4))  \n",
    "    model.add(LSTM(55)) \n",
    "    model.add(Dense(5, activation = 'softmax')) \n",
    "    model.compile(loss = 'sparse_categorical_crossentropy', optimizer = 'adam', metrics = ['accuracy']) \n",
    "    return model "
   ]
  },
  {
   "cell_type": "code",
   "execution_count": null,
   "metadata": {},
   "outputs": [
    {
     "name": "stdout",
     "output_type": "stream",
     "text": [
      "... Validating on Fold 1 ...\n",
      "Train on 43903 samples, validate on 10976 samples\n",
      "Epoch 1/250\n",
      "43872/43903 [============================>.] - ETA: 0s - loss: 1.2548 - accuracy: 0.4705\n",
      "Epoch 00001: val_loss improved from inf to 1.03670, saving model to ./storage/writer_trainfiles2/kfold1/epoch_001_val_1.037.h5\n",
      "43903/43903 [==============================] - 239s 5ms/sample - loss: 1.2547 - accuracy: 0.4705 - val_loss: 1.0367 - val_accuracy: 0.5809\n",
      "Epoch 2/250\n",
      "43872/43903 [============================>.] - ETA: 0s - loss: 0.9133 - accuracy: 0.6459\n",
      "Epoch 00002: val_loss improved from 1.03670 to 0.87713, saving model to ./storage/writer_trainfiles2/kfold1/epoch_002_val_0.877.h5\n",
      "43903/43903 [==============================] - 233s 5ms/sample - loss: 0.9132 - accuracy: 0.6459 - val_loss: 0.8771 - val_accuracy: 0.6657\n",
      "Epoch 3/250\n",
      "40064/43903 [==========================>...] - ETA: 18s - loss: 0.7122 - accuracy: 0.7345"
     ]
    }
   ],
   "source": [
    "# conduct KFold Ensemble  \n",
    "kfold = StratifiedKFold(n_splits = 5, shuffle = True, random_state = 777) \n",
    "for idx, (train_idx,val_idx) in enumerate(kfold.split(train_padded, y_train)):\n",
    "    \n",
    "    print(\"... Validating on Fold {} ...\".format(idx+1))\n",
    "    \n",
    "    # split data into train and validation sets \n",
    "    cur_x_train, cur_x_val = train_padded[train_idx], train_padded[val_idx] \n",
    "    cur_y_train, cur_y_val = y_train[train_idx], y_train[val_idx] \n",
    "    \n",
    "    # build model, define callbacks and train  \n",
    "    model_path = './storage/writer_trainfiles2/kfold' + str(idx+1) + '/epoch_{epoch:03d}_val_{val_loss:.3f}.h5'\n",
    "    model = simple_lstm() \n",
    "    learning_rate_reduction = ReduceLROnPlateau(monitor = 'val_loss', patience = 3, verbose = 1, factor = 0.8)\n",
    "    checkpoint = ModelCheckpoint(filepath = model_path, monitor = 'val_loss', verbose = 1, save_best_only = True)\n",
    "    early_stopping = EarlyStopping(monitor = 'val_loss', patience = 10) \n",
    "    history = model.fit(cur_x_train,\n",
    "                        cur_y_train,\n",
    "                        validation_data = (cur_x_val,cur_y_val),\n",
    "                        shuffle = True,\n",
    "                        epochs = 250,\n",
    "                        verbose = 1,\n",
    "                        callbacks = [learning_rate_reduction, checkpoint, early_stopping]) "
   ]
  },
  {
   "cell_type": "markdown",
   "metadata": {},
   "source": [
    "### Make predictions"
   ]
  },
  {
   "cell_type": "code",
   "execution_count": 20,
   "metadata": {},
   "outputs": [],
   "source": [
    "model1 = load_model('./storage/writer_trainfiles/kfold1/epoch_011_val_0.771.h5')\n",
    "model2 = load_model('./storage/writer_trainfiles/kfold2/epoch_013_val_0.767.h5')\n",
    "model3 = load_model('./storage/writer_trainfiles/kfold3/epoch_015_val_0.760.h5')\n",
    "model4 = load_model('./storage/writer_trainfiles/kfold4/epoch_007_val_0.801.h5')\n",
    "model5 = load_model('./storage/writer_trainfiles/kfold5/epoch_011_val_0.754.h5')"
   ]
  },
  {
   "cell_type": "code",
   "execution_count": 23,
   "metadata": {},
   "outputs": [],
   "source": [
    "pred1 = model1.predict_proba(test_padded)\n",
    "pred2 = model2.predict_proba(test_padded) \n",
    "pred3 = model3.predict_proba(test_padded) \n",
    "pred4 = model4.predict_proba(test_padded) \n",
    "pred5 = model5.predict_proba(test_padded) "
   ]
  },
  {
   "cell_type": "code",
   "execution_count": 24,
   "metadata": {},
   "outputs": [],
   "source": [
    "pred_avg = (pred1 + pred2 + pred3 + pred4 + pred5)/5.0  "
   ]
  },
  {
   "cell_type": "code",
   "execution_count": 26,
   "metadata": {},
   "outputs": [
    {
     "data": {
      "text/html": [
       "<div>\n",
       "<style scoped>\n",
       "    .dataframe tbody tr th:only-of-type {\n",
       "        vertical-align: middle;\n",
       "    }\n",
       "\n",
       "    .dataframe tbody tr th {\n",
       "        vertical-align: top;\n",
       "    }\n",
       "\n",
       "    .dataframe thead th {\n",
       "        text-align: right;\n",
       "    }\n",
       "</style>\n",
       "<table border=\"1\" class=\"dataframe\">\n",
       "  <thead>\n",
       "    <tr style=\"text-align: right;\">\n",
       "      <th></th>\n",
       "      <th>index</th>\n",
       "      <th>0</th>\n",
       "      <th>1</th>\n",
       "      <th>2</th>\n",
       "      <th>3</th>\n",
       "      <th>4</th>\n",
       "    </tr>\n",
       "  </thead>\n",
       "  <tbody>\n",
       "    <tr>\n",
       "      <th>0</th>\n",
       "      <td>0</td>\n",
       "      <td>0.004410</td>\n",
       "      <td>0.074918</td>\n",
       "      <td>0.510920</td>\n",
       "      <td>0.407275</td>\n",
       "      <td>0.002477</td>\n",
       "    </tr>\n",
       "    <tr>\n",
       "      <th>1</th>\n",
       "      <td>1</td>\n",
       "      <td>0.183829</td>\n",
       "      <td>0.719099</td>\n",
       "      <td>0.032944</td>\n",
       "      <td>0.042305</td>\n",
       "      <td>0.021822</td>\n",
       "    </tr>\n",
       "    <tr>\n",
       "      <th>2</th>\n",
       "      <td>2</td>\n",
       "      <td>0.984772</td>\n",
       "      <td>0.012736</td>\n",
       "      <td>0.000375</td>\n",
       "      <td>0.000495</td>\n",
       "      <td>0.001623</td>\n",
       "    </tr>\n",
       "    <tr>\n",
       "      <th>3</th>\n",
       "      <td>3</td>\n",
       "      <td>0.002930</td>\n",
       "      <td>0.001710</td>\n",
       "      <td>0.894060</td>\n",
       "      <td>0.003775</td>\n",
       "      <td>0.097524</td>\n",
       "    </tr>\n",
       "    <tr>\n",
       "      <th>4</th>\n",
       "      <td>4</td>\n",
       "      <td>0.512074</td>\n",
       "      <td>0.113390</td>\n",
       "      <td>0.130675</td>\n",
       "      <td>0.123092</td>\n",
       "      <td>0.120770</td>\n",
       "    </tr>\n",
       "  </tbody>\n",
       "</table>\n",
       "</div>"
      ],
      "text/plain": [
       "   index         0         1         2         3         4\n",
       "0      0  0.004410  0.074918  0.510920  0.407275  0.002477\n",
       "1      1  0.183829  0.719099  0.032944  0.042305  0.021822\n",
       "2      2  0.984772  0.012736  0.000375  0.000495  0.001623\n",
       "3      3  0.002930  0.001710  0.894060  0.003775  0.097524\n",
       "4      4  0.512074  0.113390  0.130675  0.123092  0.120770"
      ]
     },
     "execution_count": 26,
     "metadata": {},
     "output_type": "execute_result"
    }
   ],
   "source": [
    "ss[['0','1','2','3','4']] = pred_avg \n",
    "ss.head()"
   ]
  },
  {
   "cell_type": "code",
   "execution_count": 27,
   "metadata": {},
   "outputs": [],
   "source": [
    "ss.to_csv('./storage/initial_submit.csv', index = False, encoding = 'utf-8') "
   ]
  },
  {
   "cell_type": "code",
   "execution_count": null,
   "metadata": {},
   "outputs": [],
   "source": []
  }
 ],
 "metadata": {
  "kernelspec": {
   "display_name": "Python 3",
   "language": "python",
   "name": "python3"
  },
  "language_info": {
   "codemirror_mode": {
    "name": "ipython",
    "version": 3
   },
   "file_extension": ".py",
   "mimetype": "text/x-python",
   "name": "python",
   "nbconvert_exporter": "python",
   "pygments_lexer": "ipython3",
   "version": "3.6.8"
  }
 },
 "nbformat": 4,
 "nbformat_minor": 4
}
